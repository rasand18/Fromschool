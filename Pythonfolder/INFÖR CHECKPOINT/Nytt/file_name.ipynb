{
 "metadata": {
  "orig_nbformat": 4,
  "kernelspec": {
   "name": "python3",
   "display_name": "Python 3",
   "language": "python"
  }
 },
 "nbformat": 4,
 "nbformat_minor": 2,
 "cells": [
  {
   "cell_type": "code",
   "execution_count": 1,
   "metadata": {},
   "outputs": [],
   "source": [
    "import psycopg2\n",
    "from psycopg2.extensions import ISOLATION_LEVEL_AUTOCOMMIT"
   ]
  },
  {
   "cell_type": "code",
   "execution_count": 2,
   "metadata": {},
   "outputs": [],
   "source": [
    "# Connect to an existing database\n",
    "# Creates a new database session and returns a new connection instance.\n",
    "conn = psycopg2.connect(\n",
    "    host = \"db\",\n",
    "    dbname = \"postgres\",\n",
    "    user = \"postgres\",\n",
    "    password = \"example\",\n",
    "    port = 5432\n",
    ")\n",
    "\n",
    "#dbname – the database name (database is a deprecated alias)\n",
    "#user – user name used to authenticate\n",
    "#password – password used to authenticate\n",
    "#host – database host address (defaults to UNIX socket if not provided)\n",
    "#port – connection port number "
   ]
  },
  {
   "cell_type": "code",
   "execution_count": 19,
   "metadata": {},
   "outputs": [],
   "source": [
    "conn.set_isolation_level(ISOLATION_LEVEL_AUTOCOMMIT)"
   ]
  },
  {
   "cell_type": "code",
   "execution_count": 20,
   "metadata": {},
   "outputs": [],
   "source": [
    "cur = conn.cursor()"
   ]
  },
  {
   "cell_type": "code",
   "execution_count": 37,
   "metadata": {},
   "outputs": [],
   "source": [
    "cur.execute(\"CREATE TABLE IF NOT EXISTS python_table (id int primary key, name text, description text, updated timestamp default current_timestamp);\")"
   ]
  },
  {
   "cell_type": "code",
   "execution_count": 31,
   "metadata": {},
   "outputs": [],
   "source": [
    "conn.commit()\n"
   ]
  },
  {
   "cell_type": "code",
   "execution_count": null,
   "metadata": {},
   "outputs": [],
   "source": [
    " cur.execute(\n",
    "    \"INSERT INTO python_table (id, name, description) VALUES (%s, %s,%s)\",\n",
    "(1, \"test\",\"testar bara\")\n",
    ")   "
   ]
  },
  {
   "cell_type": "code",
   "execution_count": 39,
   "metadata": {},
   "outputs": [],
   "source": [
    " cur.execute(\n",
    "    \"INSERT INTO python_table (id, name, description) VALUES (%s, %s,%s)\",\n",
    "(2, \"testat\",\"testar barae\")\n",
    ")   "
   ]
  },
  {
   "cell_type": "code",
   "execution_count": 54,
   "metadata": {},
   "outputs": [
    {
     "output_type": "error",
     "ename": "SyntaxError",
     "evalue": "invalid syntax (<ipython-input-54-f03b49e49a76>, line 6)",
     "traceback": [
      "\u001b[0;36m  File \u001b[0;32m\"<ipython-input-54-f03b49e49a76>\"\u001b[0;36m, line \u001b[0;32m6\u001b[0m\n\u001b[0;31m    mycursor.execute(sql, values)\u001b[0m\n\u001b[0m    ^\u001b[0m\n\u001b[0;31mSyntaxError\u001b[0m\u001b[0;31m:\u001b[0m invalid syntax\n"
     ]
    }
   ],
   "source": [
    "mycursor = conn.cursor()\n",
    "\n",
    "cur.execute(\n",
    "    sql = \"INSERT INTO python_table (id, name, desctiption) VALUES (%s, %s, %s)\",\n",
    "    values = (3,\"John\", \"Highway\") \n",
    "    mycursor.execute(sql, values)\n",
    "\n",
    "conn.commit()"
   ]
  },
  {
   "cell_type": "code",
   "execution_count": null,
   "metadata": {},
   "outputs": [],
   "source": []
  }
 ]
}